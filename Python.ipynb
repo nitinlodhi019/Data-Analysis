{
  "cells": [
    {
      "cell_type": "markdown",
      "metadata": {
        "id": "view-in-github",
        "colab_type": "text"
      },
      "source": [
        "<a href=\"https://colab.research.google.com/github/nitinlodhi019/Data-Analysis/blob/Python/Python.ipynb\" target=\"_parent\"><img src=\"https://colab.research.google.com/assets/colab-badge.svg\" alt=\"Open In Colab\"/></a>"
      ]
    },
    {
      "cell_type": "markdown",
      "metadata": {
        "id": "_O9PEWoL9O9p"
      },
      "source": [
        "# **String**"
      ]
    },
    {
      "cell_type": "markdown",
      "metadata": {
        "id": "PtmrNydzzzT9"
      },
      "source": [
        "### **Python_String**"
      ]
    },
    {
      "cell_type": "code",
      "execution_count": null,
      "metadata": {
        "colab": {
          "base_uri": "https://localhost:8080/"
        },
        "id": "F24PUvKnz4Un",
        "outputId": "0e92a4ff-7a0a-44ee-ccac-9fbc6cc53353"
      },
      "outputs": [
        {
          "name": "stdout",
          "output_type": "stream",
          "text": [
            "Myself nitin rajpoot,\n",
            "i am belong to lucknow,\n",
            "and i am pursuing Btech from BBD.\n"
          ]
        }
      ],
      "source": [
        "a= '''Myself nitin rajpoot,\n",
        "i am belong to lucknow,\n",
        "and i am pursuing Btech from BBD.'''\n",
        "print(a)\n"
      ]
    },
    {
      "cell_type": "code",
      "execution_count": null,
      "metadata": {
        "colab": {
          "base_uri": "https://localhost:8080/"
        },
        "id": "KW-UpDZK0R37",
        "outputId": "74fd0436-cad3-4121-aaff-aa880f38618a"
      },
      "outputs": [
        {
          "name": "stdout",
          "output_type": "stream",
          "text": [
            "\n",
            "\n",
            "l\n",
            "o\n",
            "n\n",
            "g\n"
          ]
        }
      ],
      "source": [
        "print(a[21])\n",
        "print(a[29])\n",
        "print(a[30])\n",
        "print(a[31])\n",
        "print(a[32])"
      ]
    },
    {
      "cell_type": "code",
      "execution_count": null,
      "metadata": {
        "colab": {
          "base_uri": "https://localhost:8080/"
        },
        "id": "ddaTY7Vp0fJa",
        "outputId": "95a84667-03e4-4643-f4d3-19cbba82dff3"
      },
      "outputs": [
        {
          "name": "stdout",
          "output_type": "stream",
          "text": [
            "N\n",
            "i\n",
            "t\n",
            "i\n",
            "n\n"
          ]
        }
      ],
      "source": [
        "# looping\n",
        "for i in 'Nitin':\n",
        "  print(i)"
      ]
    },
    {
      "cell_type": "code",
      "execution_count": null,
      "metadata": {
        "colab": {
          "base_uri": "https://localhost:8080/"
        },
        "id": "Qjwwfj3R1KZc",
        "outputId": "9d9e6429-5512-4e85-b771-f50bad7472fc"
      },
      "outputs": [
        {
          "name": "stdout",
          "output_type": "stream",
          "text": [
            "False\n"
          ]
        }
      ],
      "source": [
        "# check by in\n",
        "a=\"nitin rajpoot\"\n",
        "print(\"free\" in a)"
      ]
    },
    {
      "cell_type": "code",
      "execution_count": null,
      "metadata": {
        "colab": {
          "base_uri": "https://localhost:8080/"
        },
        "id": "rDAQo1GB1WmY",
        "outputId": "2eca33c6-5842-44c2-9682-e080c6e3bae8"
      },
      "outputs": [
        {
          "name": "stdout",
          "output_type": "stream",
          "text": [
            "yes\n"
          ]
        }
      ],
      "source": [
        "if 'raj' in a:\n",
        "  print(\"yes\")"
      ]
    },
    {
      "cell_type": "markdown",
      "metadata": {
        "id": "3I-G8X6s11vo"
      },
      "source": [
        "###**Format_String**"
      ]
    },
    {
      "cell_type": "code",
      "execution_count": null,
      "metadata": {
        "colab": {
          "base_uri": "https://localhost:8080/"
        },
        "id": "Wk-Wq62p1dqk",
        "outputId": "4d84691e-a162-4992-b405-7dabcf374bdf"
      },
      "outputs": [
        {
          "name": "stdout",
          "output_type": "stream",
          "text": [
            "my name is nitin, i am 19\n"
          ]
        }
      ],
      "source": [
        "# f string\n",
        "age=19\n",
        "a=f\"my name is nitin, i am {age}\"\n",
        "print(a)\n"
      ]
    },
    {
      "cell_type": "code",
      "execution_count": null,
      "metadata": {
        "colab": {
          "base_uri": "https://localhost:8080/"
        },
        "id": "hCvvu4aF12wN",
        "outputId": "e016459f-4f66-474b-84d7-51b6fcf099f6"
      },
      "outputs": [
        {
          "name": "stdout",
          "output_type": "stream",
          "text": [
            "my height is 170.24\n"
          ]
        }
      ],
      "source": [
        "height=170.2435446\n",
        "a=f'my height is {height:.2f}'\n",
        "print(a)"
      ]
    },
    {
      "cell_type": "code",
      "execution_count": null,
      "metadata": {
        "id": "GGyByZX42u5t"
      },
      "outputs": [],
      "source": []
    },
    {
      "cell_type": "markdown",
      "metadata": {
        "id": "RoWPu9o23Eyq"
      },
      "source": [
        "##String_Method"
      ]
    },
    {
      "cell_type": "code",
      "execution_count": null,
      "metadata": {
        "colab": {
          "base_uri": "https://localhost:8080/"
        },
        "id": "DSPIddOX3Hht",
        "outputId": "b3c01905-470f-4a36-e828-57c620292451"
      },
      "outputs": [
        {
          "name": "stdout",
          "output_type": "stream",
          "text": [
            "My name is nitin rajpoot\n"
          ]
        }
      ],
      "source": [
        "a=\"My name is Nitin Rajpoot\"\n",
        "print(a.capitalize())"
      ]
    },
    {
      "cell_type": "code",
      "execution_count": null,
      "metadata": {
        "colab": {
          "base_uri": "https://localhost:8080/"
        },
        "id": "EbLUo1al3QSR",
        "outputId": "eaf3078b-ade3-467d-c061-3901ac3dd60e"
      },
      "outputs": [
        {
          "name": "stdout",
          "output_type": "stream",
          "text": [
            "my name is nitin rajpoot\n"
          ]
        }
      ],
      "source": [
        "print(a.casefold())"
      ]
    },
    {
      "cell_type": "code",
      "execution_count": null,
      "metadata": {
        "colab": {
          "base_uri": "https://localhost:8080/"
        },
        "id": "i6TIptM13UDW",
        "outputId": "c04629fa-d6c6-4aaa-aa61-788a3e7bf6f3"
      },
      "outputs": [
        {
          "name": "stdout",
          "output_type": "stream",
          "text": [
            "************Nitin*************\n"
          ]
        }
      ],
      "source": [
        "name='Nitin'\n",
        "print(name.center(30,'*'))"
      ]
    },
    {
      "cell_type": "code",
      "execution_count": null,
      "metadata": {
        "colab": {
          "base_uri": "https://localhost:8080/"
        },
        "id": "6U992Dq73gLD",
        "outputId": "f30a9ab4-50f3-4d0b-a359-6a6a64716c22"
      },
      "outputs": [
        {
          "name": "stdout",
          "output_type": "stream",
          "text": [
            "3\n"
          ]
        }
      ],
      "source": [
        "print(a.count('i'))"
      ]
    },
    {
      "cell_type": "code",
      "execution_count": null,
      "metadata": {
        "colab": {
          "base_uri": "https://localhost:8080/"
        },
        "id": "ZyBP9YgZ3hkc",
        "outputId": "8bcaf2c0-29e5-4af2-fc39-70cda5e66e05"
      },
      "outputs": [
        {
          "name": "stdout",
          "output_type": "stream",
          "text": [
            "11\n"
          ]
        }
      ],
      "source": [
        "print(a.find('Nitin'))"
      ]
    },
    {
      "cell_type": "code",
      "execution_count": null,
      "metadata": {
        "colab": {
          "base_uri": "https://localhost:8080/"
        },
        "id": "lRaZqICu4mQc",
        "outputId": "c69c0d95-09ca-4602-a959-7b8502792ced"
      },
      "outputs": [
        {
          "name": "stdout",
          "output_type": "stream",
          "text": [
            "My Name Is Nitin Rajpoot\n"
          ]
        }
      ],
      "source": [
        "print(a.title())"
      ]
    },
    {
      "cell_type": "code",
      "execution_count": null,
      "metadata": {
        "colab": {
          "base_uri": "https://localhost:8080/"
        },
        "id": "-xEIq2tO45bQ",
        "outputId": "14f97434-e1a0-4c02-d3f9-2973a05c3cbf"
      },
      "outputs": [
        {
          "name": "stdout",
          "output_type": "stream",
          "text": [
            "False\n"
          ]
        }
      ],
      "source": [
        "print(a.isupper())"
      ]
    },
    {
      "cell_type": "code",
      "execution_count": null,
      "metadata": {
        "colab": {
          "base_uri": "https://localhost:8080/"
        },
        "id": "Z2QrhTTl48au",
        "outputId": "678bef4e-271c-465f-e3fb-d0c503edce65"
      },
      "outputs": [
        {
          "name": "stdout",
          "output_type": "stream",
          "text": [
            "False\n"
          ]
        }
      ],
      "source": [
        "print(a.isalpha())"
      ]
    },
    {
      "cell_type": "code",
      "execution_count": null,
      "metadata": {
        "colab": {
          "base_uri": "https://localhost:8080/"
        },
        "id": "EwHMx0MQ5EUB",
        "outputId": "9c459582-4b34-4040-8373-39a7be3761f5"
      },
      "outputs": [
        {
          "name": "stdout",
          "output_type": "stream",
          "text": [
            "N*i*t*i*n\n"
          ]
        }
      ],
      "source": [
        "#Join\n",
        "name='Nitin'\n",
        "a='*'.join(name)\n",
        "print(a)\n"
      ]
    },
    {
      "cell_type": "code",
      "execution_count": null,
      "metadata": {
        "colab": {
          "base_uri": "https://localhost:8080/"
        },
        "id": "C8_XvXFO6GS-",
        "outputId": "d9722d05-162f-44ba-9db3-a55abf1543cd"
      },
      "outputs": [
        {
          "name": "stdout",
          "output_type": "stream",
          "text": [
            "h**y**t\n"
          ]
        }
      ],
      "source": [
        "tuple=(\"h\",\"y\",\"t\")\n",
        "a='**'\n",
        "x=a.join(tuple)\n",
        "print(x)"
      ]
    },
    {
      "cell_type": "code",
      "execution_count": null,
      "metadata": {
        "colab": {
          "base_uri": "https://localhost:8080/"
        },
        "id": "MbwOknEX6bqW",
        "outputId": "e7399a71-7ea7-4a0a-e976-80a2a83f14cc"
      },
      "outputs": [
        {
          "name": "stdout",
          "output_type": "stream",
          "text": [
            "['My', 'name,', 'is', 'Nitin']\n"
          ]
        }
      ],
      "source": [
        "#Split\n",
        "name=\"My name, is Nitin\"\n",
        "a=name.split()\n",
        "print(a)"
      ]
    },
    {
      "cell_type": "code",
      "execution_count": null,
      "metadata": {
        "colab": {
          "base_uri": "https://localhost:8080/"
        },
        "id": "zN_Cfcsc6viD",
        "outputId": "1a1d4cee-a6c9-4fb4-9f37-bfb172d73533"
      },
      "outputs": [
        {
          "name": "stdout",
          "output_type": "stream",
          "text": [
            "['My name', ' is Nitin']\n"
          ]
        }
      ],
      "source": [
        "#Split\n",
        "name=\"My name, is Nitin\"\n",
        "a=name.split(',')\n",
        "print(a)"
      ]
    },
    {
      "cell_type": "code",
      "execution_count": null,
      "metadata": {
        "colab": {
          "base_uri": "https://localhost:8080/"
        },
        "id": "riyWdlxf6zEA",
        "outputId": "90d80edf-7bf4-4b1c-cbf7-2bc53daa6d0b"
      },
      "outputs": [
        {
          "name": "stdout",
          "output_type": "stream",
          "text": [
            "nitin    rajpoot\n"
          ]
        }
      ],
      "source": [
        "name='  nitin    rajpoot '\n",
        "print(name.strip())"
      ]
    },
    {
      "cell_type": "markdown",
      "source": [
        "##You are given a string. Split the string on a \" \" (space) delimiter and join using a - hyphen."
      ],
      "metadata": {
        "id": "PnCkui3H5Ixn"
      }
    },
    {
      "cell_type": "code",
      "execution_count": null,
      "metadata": {
        "id": "j8rHnAD_69rn",
        "colab": {
          "base_uri": "https://localhost:8080/"
        },
        "outputId": "d35884e3-cac1-4d29-f7f3-1327cb159973"
      },
      "outputs": [
        {
          "output_type": "stream",
          "name": "stdout",
          "text": [
            "my name is nitin kumar\n",
            "['my', 'name', 'is', 'nitin', 'kumar']\n",
            "my-name-is-nitin-kumar\n"
          ]
        }
      ],
      "source": [
        "def split_and_join(line):\n",
        "    # write your code here\n",
        "    split_line=list(line.split(\" \"))\n",
        "    join_line=\"-\".join(split_line)\n",
        "    return join_line\n",
        "\n",
        "\n",
        "if __name__ == '__main__':\n",
        "    line = input()\n",
        "    result = split_and_join(line)\n",
        "    print(result)"
      ]
    },
    {
      "cell_type": "markdown",
      "source": [
        "## Your task is to find out if the string  contains: alphanumeric characters, alphabetical characters, digits, lowercase and uppercase characters."
      ],
      "metadata": {
        "id": "GHGGwrNGnbHE"
      }
    },
    {
      "cell_type": "code",
      "source": [
        "class StringUtils:\n",
        "    @staticmethod\n",
        "    def lower(a):\n",
        "        for x in a:\n",
        "            if x.islower():\n",
        "                return True\n",
        "        return False\n",
        "\n",
        "    @staticmethod\n",
        "    def upper(a):\n",
        "        for x in a:\n",
        "            if x.isupper():\n",
        "                return True\n",
        "        return False\n",
        "\n",
        "    @staticmethod\n",
        "    def alphanumeric(a):\n",
        "        for x in a:\n",
        "            if x.isalnum():\n",
        "                return True\n",
        "        return False\n",
        "\n",
        "    @staticmethod\n",
        "    def alphabetical(a):\n",
        "        for x in a:\n",
        "            if x.isalpha():\n",
        "                return True\n",
        "        return False\n",
        "\n",
        "    @staticmethod\n",
        "    def digit(a):\n",
        "        for x in a:\n",
        "            if x.isdigit():\n",
        "                return True\n",
        "        return False\n",
        "\n",
        "if __name__ == '__main__':\n",
        "    a = input(\"Enter a string: \")\n",
        "    print(StringUtils.alphanumeric(a))\n",
        "    print(StringUtils.alphabetical(a))\n",
        "    print(StringUtils.digit(a))\n",
        "    print(StringUtils.lower(a))\n",
        "    print(StringUtils.upper(a))\n"
      ],
      "metadata": {
        "colab": {
          "base_uri": "https://localhost:8080/"
        },
        "id": "L8n6ye-HnhXB",
        "outputId": "8ca61e7a-69af-4a2e-ea2e-b49b9fac288d"
      },
      "execution_count": null,
      "outputs": [
        {
          "output_type": "stream",
          "name": "stdout",
          "text": [
            "Enter a string: Aa2\n",
            "True\n",
            "True\n",
            "True\n",
            "True\n",
            "True\n"
          ]
        }
      ]
    },
    {
      "cell_type": "markdown",
      "source": [
        "##Use of ljust,rjust,center for arrangement"
      ],
      "metadata": {
        "id": "G9P0cSUHvgKz"
      }
    },
    {
      "cell_type": "code",
      "source": [
        "#Replace all ______ with rjust, ljust or center.\n",
        "\n",
        "thickness = int(input()) #This must be an odd number\n",
        "c = 'H'\n",
        "\n",
        "#Top Cone\n",
        "for i in range(thickness):\n",
        "    print((c*i).rjust(thickness-1)+c+(c*i).ljust(thickness-1))\n",
        "\n",
        "#Top Pillars\n",
        "for i in range(thickness+1):\n",
        "    print((c*thickness).center(thickness*2)+(c*thickness).center(thickness*6))\n",
        "\n",
        "#Middle Belt\n",
        "for i in range((thickness+1)//2):\n",
        "    print((c*thickness*5).center(thickness*6))\n",
        "\n",
        "#Bottom Pillars\n",
        "for i in range(thickness+1):\n",
        "    print((c*thickness).center(thickness*2)+(c*thickness).center(thickness*6))\n",
        "\n",
        "#Bottom Cone\n",
        "for i in range(thickness):\n",
        "    print(((c*(thickness-i-1)).rjust(thickness)+c+(c*(thickness-i-1)).ljust(thickness)).rjust(thickness*6))"
      ],
      "metadata": {
        "colab": {
          "base_uri": "https://localhost:8080/"
        },
        "id": "_FGH5OBSpvfE",
        "outputId": "b2de5254-1328-4f3b-fea0-6085f0d611ba"
      },
      "execution_count": null,
      "outputs": [
        {
          "output_type": "stream",
          "name": "stdout",
          "text": [
            "6\n",
            "     H     \n",
            "    HHH    \n",
            "   HHHHH   \n",
            "  HHHHHHH  \n",
            " HHHHHHHHH \n",
            "HHHHHHHHHHH\n",
            "   HHHHHH                  HHHHHH               \n",
            "   HHHHHH                  HHHHHH               \n",
            "   HHHHHH                  HHHHHH               \n",
            "   HHHHHH                  HHHHHH               \n",
            "   HHHHHH                  HHHHHH               \n",
            "   HHHHHH                  HHHHHH               \n",
            "   HHHHHH                  HHHHHH               \n",
            "   HHHHHHHHHHHHHHHHHHHHHHHHHHHHHH   \n",
            "   HHHHHHHHHHHHHHHHHHHHHHHHHHHHHH   \n",
            "   HHHHHHHHHHHHHHHHHHHHHHHHHHHHHH   \n",
            "   HHHHHH                  HHHHHH               \n",
            "   HHHHHH                  HHHHHH               \n",
            "   HHHHHH                  HHHHHH               \n",
            "   HHHHHH                  HHHHHH               \n",
            "   HHHHHH                  HHHHHH               \n",
            "   HHHHHH                  HHHHHH               \n",
            "   HHHHHH                  HHHHHH               \n",
            "                        HHHHHHHHHHH \n",
            "                         HHHHHHHHH  \n",
            "                          HHHHHHH   \n",
            "                           HHHHH    \n",
            "                            HHH     \n",
            "                             H      \n"
          ]
        }
      ]
    },
    {
      "cell_type": "markdown",
      "source": [
        "## Wrap the string into a given paragraph\n"
      ],
      "metadata": {
        "id": "G1NfRB530_I-"
      }
    },
    {
      "cell_type": "code",
      "source": [
        "import textwrap\n",
        "\n",
        "def wrap(string, max_width):\n",
        "  wrap_string=textwrap.TextWrapper(width=max_width)\n",
        "  word_list=wrap_string.wrap(text=string) #string is variable name\n",
        "  return '\\n'.join(word_list)\n",
        "\n",
        "if __name__ == '__main__':\n",
        "    string, max_width = input(), int(input())\n",
        "    result = wrap(string, max_width)\n",
        "    print(result)"
      ],
      "metadata": {
        "colab": {
          "base_uri": "https://localhost:8080/"
        },
        "id": "XYBJ_nlrxLJc",
        "outputId": "96102579-b501-4446-c3c1-8158f7c198f7"
      },
      "execution_count": null,
      "outputs": [
        {
          "output_type": "stream",
          "name": "stdout",
          "text": [
            "ABCDEFGHIJKLIMNOQRSTUVWXYZ\n",
            "4\n",
            "ABCD\n",
            "EFGH\n",
            "IJKL\n",
            "IMNO\n",
            "QRST\n",
            "UVWX\n",
            "YZ\n"
          ]
        }
      ]
    },
    {
      "cell_type": "markdown",
      "source": [
        "## Capitalized"
      ],
      "metadata": {
        "id": "CIidmNfe32cj"
      }
    },
    {
      "cell_type": "code",
      "source": [
        "def solve(s):\n",
        "  for x in s.split():\n",
        "    s=s.replace(x,x.capitalize())\n",
        "  return s\n",
        "\n",
        "if __name__ == '__main__':\n",
        "    s = input()\n",
        "    result = solve(s)\n",
        "    print(result + '\\n')\n"
      ],
      "metadata": {
        "colab": {
          "base_uri": "https://localhost:8080/"
        },
        "id": "CgJiDG5c2ocC",
        "outputId": "1e900265-b489-41ff-8f10-5c55a1029e18"
      },
      "execution_count": null,
      "outputs": [
        {
          "output_type": "stream",
          "name": "stdout",
          "text": [
            "nitin kuamrr\n",
            "Nitin Kuamrr\n",
            "\n"
          ]
        }
      ]
    },
    {
      "cell_type": "markdown",
      "source": [
        "##Count Substring"
      ],
      "metadata": {
        "id": "Nw6X8uVczxFk"
      }
    },
    {
      "cell_type": "code",
      "source": [
        "def count_substring(string, sub_string):\n",
        "\n",
        "  count=0\n",
        "  for x in range(len(string)):\n",
        "    if string[x:].startswith(sub_string):\n",
        "      count +=1\n",
        "  return count\n",
        "\n",
        "if __name__ == '__main__':\n",
        "    string = input().strip()\n",
        "    sub_string = input().strip()\n",
        "\n",
        "    count = count_substring(string, sub_string)\n",
        "    print(count)"
      ],
      "metadata": {
        "colab": {
          "base_uri": "https://localhost:8080/"
        },
        "id": "ZVoZWQ3ozwU8",
        "outputId": "88537f0b-c0ec-407f-f02d-cbc0fd81e3fd"
      },
      "execution_count": null,
      "outputs": [
        {
          "output_type": "stream",
          "name": "stdout",
          "text": [
            "ABCDCDC\n",
            "cdc\n",
            "0\n"
          ]
        }
      ]
    },
    {
      "cell_type": "markdown",
      "source": [
        "# Operators"
      ],
      "metadata": {
        "id": "hRLTyOQs62DP"
      }
    },
    {
      "cell_type": "markdown",
      "metadata": {
        "id": "US_gsZ6096aj"
      },
      "source": [
        "### Bitwise_Operator"
      ]
    },
    {
      "cell_type": "code",
      "execution_count": null,
      "metadata": {
        "colab": {
          "background_save": true,
          "base_uri": "https://localhost:8080/"
        },
        "id": "g5_TzpdG9-Y3",
        "outputId": "bd921469-e0a5-41b9-f373-36dbe9b776a0"
      },
      "outputs": [
        {
          "name": "stdout",
          "output_type": "stream",
          "text": [
            "10\n"
          ]
        }
      ],
      "source": [
        "# & -> return 1 if both are 1\n",
        "print(110 & 10)"
      ]
    },
    {
      "cell_type": "code",
      "execution_count": null,
      "metadata": {
        "colab": {
          "background_save": true,
          "base_uri": "https://localhost:8080/"
        },
        "id": "afQwASUF-N-1",
        "outputId": "53f8b734-8057-42c1-fdcd-b8f294062c98"
      },
      "outputs": [
        {
          "name": "stdout",
          "output_type": "stream",
          "text": [
            "2\n"
          ]
        }
      ],
      "source": [
        "a=110\n",
        "b=10\n",
        "c=(a & b)\n",
        "print(int(str(c),2))"
      ]
    },
    {
      "cell_type": "code",
      "execution_count": null,
      "metadata": {
        "colab": {
          "base_uri": "https://localhost:8080/"
        },
        "id": "S-_jHfut-kkv",
        "outputId": "daed0238-27bc-4116-b7bd-4ed28c3bbeca"
      },
      "outputs": [
        {
          "name": "stdout",
          "output_type": "stream",
          "text": [
            "100\n",
            "4\n"
          ]
        }
      ],
      "source": [
        "n = 4\n",
        "binary = format(n, 'b')\n",
        "print(binary)  # Output: '100'\n",
        "binary = '100'\n",
        "decimal = int(binary, 2)\n",
        "print(decimal)  # Output: 4"
      ]
    },
    {
      "cell_type": "code",
      "execution_count": null,
      "metadata": {
        "colab": {
          "base_uri": "https://localhost:8080/"
        },
        "id": "CgR_wWn-_87A",
        "outputId": "2abc3f98-c183-4aca-fb9a-bf5e477c5ea5"
      },
      "outputs": [
        {
          "name": "stdout",
          "output_type": "stream",
          "text": [
            "110\n"
          ]
        }
      ],
      "source": [
        "# decimal to binary\n",
        "num=6\n",
        "binary=format(num,'b')\n",
        "print(binary)"
      ]
    },
    {
      "cell_type": "code",
      "execution_count": null,
      "metadata": {
        "colab": {
          "base_uri": "https://localhost:8080/"
        },
        "id": "JiAoqTwuAckX",
        "outputId": "67cc9974-89b5-4633-d71c-5d705742d7de"
      },
      "outputs": [
        {
          "name": "stdout",
          "output_type": "stream",
          "text": [
            "6\n"
          ]
        }
      ],
      "source": [
        "num=110\n",
        "dec=int(str(num),2)\n",
        "print(dec)"
      ]
    },
    {
      "cell_type": "code",
      "execution_count": null,
      "metadata": {
        "colab": {
          "base_uri": "https://localhost:8080/"
        },
        "id": "UxuNz53sApX9",
        "outputId": "2e811599-4e31-4989-9271-58793803c12f"
      },
      "outputs": [
        {
          "name": "stdout",
          "output_type": "stream",
          "text": [
            "111\n"
          ]
        }
      ],
      "source": [
        "# OR(|) return 1 when one of 1\n",
        "a=110\n",
        "b=1\n",
        "print(a|b)"
      ]
    },
    {
      "cell_type": "code",
      "execution_count": null,
      "metadata": {
        "colab": {
          "base_uri": "https://localhost:8080/"
        },
        "id": "dvwhzdq4BQ4Z",
        "outputId": "63d1cebd-cc57-4361-a250-a7fdf82e75ba"
      },
      "outputs": [
        {
          "name": "stdout",
          "output_type": "stream",
          "text": [
            "101\n"
          ]
        }
      ],
      "source": [
        "#XOR(^) when both are same its return 0\n",
        "a=110\n",
        "b=11\n",
        "print(a^b)"
      ]
    },
    {
      "cell_type": "code",
      "execution_count": null,
      "metadata": {
        "colab": {
          "base_uri": "https://localhost:8080/"
        },
        "id": "e-nqwG1BB33W",
        "outputId": "b66af83d-196f-4abb-ffb5-3075fcc97102"
      },
      "outputs": [
        {
          "name": "stdout",
          "output_type": "stream",
          "text": [
            "-11\n"
          ]
        }
      ],
      "source": [
        "#Not(~) invert 100001\n",
        "a=10\n",
        "print(~a)"
      ]
    },
    {
      "cell_type": "code",
      "execution_count": null,
      "metadata": {
        "id": "rZMapFZxCEOi"
      },
      "outputs": [],
      "source": []
    },
    {
      "cell_type": "markdown",
      "source": [
        "# Class/Methods"
      ],
      "metadata": {
        "id": "pipcXp8kK9re"
      }
    },
    {
      "cell_type": "code",
      "source": [
        "class Person:\n",
        "  def __init__(self,name,age):\n",
        "    self.name=name\n",
        "    self.age=age\n",
        "  def __str__(self):\n",
        "    return f\"my name is {self.name}\""
      ],
      "metadata": {
        "id": "4E8-4Pz3LDXt"
      },
      "execution_count": null,
      "outputs": []
    },
    {
      "cell_type": "code",
      "source": [
        "a=Person('nitin',19)"
      ],
      "metadata": {
        "id": "4UarshDBLjo-"
      },
      "execution_count": null,
      "outputs": []
    },
    {
      "cell_type": "code",
      "source": [
        "print(str(a))"
      ],
      "metadata": {
        "colab": {
          "base_uri": "https://localhost:8080/"
        },
        "id": "8zYhsGHKLor_",
        "outputId": "b3a5c592-cd06-4556-95eb-650d6c42ad18"
      },
      "execution_count": null,
      "outputs": [
        {
          "output_type": "stream",
          "name": "stdout",
          "text": [
            "my name is nitin\n"
          ]
        }
      ]
    },
    {
      "cell_type": "code",
      "source": [],
      "metadata": {
        "id": "F6sQq7GQLsm_"
      },
      "execution_count": null,
      "outputs": []
    },
    {
      "cell_type": "markdown",
      "source": [
        "# Inheritance"
      ],
      "metadata": {
        "id": "RaSM8sYCNd54"
      }
    },
    {
      "cell_type": "code",
      "source": [
        "class Person:\n",
        "  def __init__(self,fname,lname):\n",
        "    self.fname=fname\n",
        "    self.lname=lname\n",
        "\n",
        "class Student(Person):\n",
        "  def __init__(self,fname,lname,age):\n",
        "    super().__init__(fname,lname)\n",
        "    self.age=age\n",
        "  def data(self):\n",
        "    print(f\"My name is {self.fname} {self.lname} and I am {self.age} year old\")\n",
        "  def _str__(self):\n",
        "     return f\"My name is {self.fname} {self.lname}\" #str return not\n",
        "\n",
        "a=Student(\"Nitin\",\"Kumar\",19)"
      ],
      "metadata": {
        "id": "gNLFdxjeNh9g"
      },
      "execution_count": null,
      "outputs": []
    },
    {
      "cell_type": "code",
      "source": [
        "a.data()"
      ],
      "metadata": {
        "colab": {
          "base_uri": "https://localhost:8080/"
        },
        "id": "OEb1GYU6PCYu",
        "outputId": "e3bc865d-485c-43e7-8f77-a904cfedb1b6"
      },
      "execution_count": null,
      "outputs": [
        {
          "output_type": "stream",
          "name": "stdout",
          "text": [
            "My name is Nitin Kumar and I am 19 year old\n"
          ]
        }
      ]
    },
    {
      "cell_type": "code",
      "source": [
        "print(str(a))"
      ],
      "metadata": {
        "colab": {
          "base_uri": "https://localhost:8080/"
        },
        "id": "49TH0xjRPjyJ",
        "outputId": "75f234a6-a56b-4166-9740-3785932ff4f2"
      },
      "execution_count": null,
      "outputs": [
        {
          "output_type": "stream",
          "name": "stdout",
          "text": [
            "<__main__.Student object at 0x7d0e4c165540>\n"
          ]
        }
      ]
    },
    {
      "cell_type": "code",
      "source": [],
      "metadata": {
        "id": "6yYBWeFoQ7fl"
      },
      "execution_count": null,
      "outputs": []
    },
    {
      "cell_type": "markdown",
      "source": [
        "# Iterator"
      ],
      "metadata": {
        "id": "HbJdHNUZXpTC"
      }
    },
    {
      "cell_type": "code",
      "source": [
        "name= \"Nitin\"\n",
        "a = iter(name)\n",
        "print(next(a))\n",
        "print(next(a))\n",
        "print(next(a))\n",
        "print(next(a))\n",
        "print(next(a))"
      ],
      "metadata": {
        "colab": {
          "base_uri": "https://localhost:8080/"
        },
        "id": "7bCYt4zTX17C",
        "outputId": "8ef6028c-af2b-472f-feba-ba84924380f0"
      },
      "execution_count": null,
      "outputs": [
        {
          "output_type": "stream",
          "name": "stdout",
          "text": [
            "N\n",
            "i\n",
            "t\n",
            "i\n",
            "n\n"
          ]
        }
      ]
    },
    {
      "cell_type": "code",
      "source": [
        "mytuple=(\"a\",\"b\",\"c\",\"d\")\n",
        "a=iter(mytuple)\n",
        "print(next(a))\n",
        "print(next(a))\n",
        "print(next(a))\n",
        "print(next(a))"
      ],
      "metadata": {
        "colab": {
          "base_uri": "https://localhost:8080/"
        },
        "id": "XQTUj8uJYD4U",
        "outputId": "b9a05e97-ab96-405d-e119-0fbc5e786b7a"
      },
      "execution_count": null,
      "outputs": [
        {
          "output_type": "stream",
          "name": "stdout",
          "text": [
            "a\n",
            "b\n",
            "c\n",
            "d\n"
          ]
        }
      ]
    },
    {
      "cell_type": "code",
      "source": [
        "class Mynumbers:\n",
        "  def __iter__(self):\n",
        "    self.a=1\n",
        "    return self\n",
        "  def __next__(self):\n",
        "    x=self.a\n",
        "    self.a +=1\n",
        "    return x\n",
        "\n",
        "myclass = Mynumbers()\n",
        "a=iter(myclass)\n",
        "print(next(a))\n",
        "print(next(a))\n",
        "print(next(a))\n",
        "print(next(a))"
      ],
      "metadata": {
        "colab": {
          "base_uri": "https://localhost:8080/"
        },
        "id": "JLxHzWEvYj36",
        "outputId": "a05fee8f-714b-4d52-a643-4c2696711f0d"
      },
      "execution_count": null,
      "outputs": [
        {
          "output_type": "stream",
          "name": "stdout",
          "text": [
            "1\n",
            "2\n",
            "3\n",
            "4\n"
          ]
        }
      ]
    },
    {
      "cell_type": "code",
      "source": [
        "class Numbers:\n",
        "  def __iter__(self):\n",
        "    self.a=1\n",
        "    return self\n",
        "  def __next__(self):\n",
        "    if self.a <= 20:\n",
        "      x=self.a\n",
        "      self.a += 1\n",
        "      return x\n",
        "    else:\n",
        "      raise StopIteration\n",
        "\n",
        "myclass = Numbers()\n",
        "a= iter(myclass)\n",
        "\n",
        "for x in a:\n",
        "  print(x)"
      ],
      "metadata": {
        "colab": {
          "base_uri": "https://localhost:8080/"
        },
        "id": "ejm1xA9PZMmi",
        "outputId": "23f36cbc-eefd-4fd9-c98d-a3366b784810"
      },
      "execution_count": null,
      "outputs": [
        {
          "output_type": "stream",
          "name": "stdout",
          "text": [
            "1\n",
            "2\n",
            "3\n",
            "4\n",
            "5\n",
            "6\n",
            "7\n",
            "8\n",
            "9\n",
            "10\n",
            "11\n",
            "12\n",
            "13\n",
            "14\n",
            "15\n",
            "16\n",
            "17\n",
            "18\n",
            "19\n",
            "20\n"
          ]
        }
      ]
    },
    {
      "cell_type": "code",
      "source": [],
      "metadata": {
        "id": "5bGblF1ecYSl"
      },
      "execution_count": null,
      "outputs": []
    },
    {
      "cell_type": "markdown",
      "source": [
        "# Polymorphism\n",
        "**Multiple classes with same method name**"
      ],
      "metadata": {
        "id": "1tLdhGDKJBa3"
      }
    },
    {
      "cell_type": "code",
      "source": [
        "class Car:\n",
        "  def __init__(self,brand,model):\n",
        "    self.brand=brand\n",
        "    self.model=model\n",
        "  def move(self):\n",
        "    print(\"drive!\")\n",
        "\n",
        "class Boat:\n",
        "  def __init__(self,brand,model):\n",
        "    self.brand=brand\n",
        "    self.model=model\n",
        "  def move(self):\n",
        "    print(\"sail!\")\n",
        "\n",
        "class Plane:\n",
        "  def __init__(self,brand,model):\n",
        "    self.brand=brand\n",
        "    self.model=model\n",
        "  def move(self):\n",
        "    print(\"fly!\")\n",
        "\n",
        "car1=Car(\"Ford\", \"Mustang\")\n",
        "boat1=Boat(\"Ibiza\", \"Touring 20\")\n",
        "plane1=Plane(\"Boeing\", \"747\")\n",
        "\n",
        "for x in (car1,boat1,plane1):\n",
        "  x.move()"
      ],
      "metadata": {
        "colab": {
          "base_uri": "https://localhost:8080/"
        },
        "id": "6m6MOtZXJHS_",
        "outputId": "26db643b-307a-49ef-dc40-1edb0baf4d65"
      },
      "execution_count": null,
      "outputs": [
        {
          "output_type": "stream",
          "name": "stdout",
          "text": [
            "drive!\n",
            "sail!\n",
            "fly!\n"
          ]
        }
      ]
    },
    {
      "cell_type": "markdown",
      "source": [
        "#Project"
      ],
      "metadata": {
        "id": "t9SwNTc5jQiG"
      }
    },
    {
      "cell_type": "markdown",
      "source": [
        "##Guessing a number"
      ],
      "metadata": {
        "id": "6E2V9f6Mmike"
      }
    },
    {
      "cell_type": "code",
      "source": [
        "import random\n",
        "import math\n",
        "\n",
        "a=int(input('Enter lower range:-'))\n",
        "b=int(input('Enter upper range:-'))\n",
        "x=random.randint(a,b)\n",
        "\n",
        "print(f'you have only {round(math.log(b-a+1,2))} chances to guess a number')\n",
        "\n",
        "count=0\n",
        "\n",
        "while count < math.log(b-a+1,2):\n",
        "  count += 1\n",
        "\n",
        "  guess=int(input('Guess a number:-'))\n",
        "\n",
        "  if guess == x:\n",
        "    print(\"Congratulations!! you did it in \",count,'try')\n",
        "    break\n",
        "  elif guess < x:\n",
        "    print('Oops!! your guess was too low')\n",
        "  else:\n",
        "    print('Oops!! your guess was too high')\n",
        "\n",
        "if count > math.log(b-a+1,2):\n",
        "  print(f'The number is {x}')\n",
        "  print('You have lost all your chances Better luck next time!!')"
      ],
      "metadata": {
        "id": "aknXITTacrTo",
        "colab": {
          "base_uri": "https://localhost:8080/"
        },
        "outputId": "1364c0ae-43f7-452a-8d3d-c57fcf4b2543"
      },
      "execution_count": null,
      "outputs": [
        {
          "output_type": "stream",
          "name": "stdout",
          "text": [
            "Enter lower range:-1\n",
            "Enter upper range:-200\n",
            "you have only 8 chances to guess a number\n",
            "Guess a number:-100\n",
            "Oops!! your guess was too high\n",
            "Guess a number:-50\n",
            "Oops!! your guess was too low\n",
            "Guess a number:-75\n",
            "Oops!! your guess was too low\n",
            "Guess a number:-90\n",
            "Oops!! your guess was too high\n",
            "Guess a number:-80\n",
            "Oops!! your guess was too low\n",
            "Guess a number:-85\n",
            "Oops!! your guess was too low\n",
            "Guess a number:-88\n",
            "Oops!! your guess was too high\n",
            "Guess a number:-86\n",
            "Congratulations!! you did it in  8 try\n",
            "The number is 86\n",
            "You have lost all your chances Better luck next time!!\n"
          ]
        }
      ]
    },
    {
      "cell_type": "code",
      "source": [],
      "metadata": {
        "id": "16GmFkAOlNwg"
      },
      "execution_count": null,
      "outputs": []
    },
    {
      "cell_type": "markdown",
      "source": [
        "#Map func"
      ],
      "metadata": {
        "id": "xIIyMrllAqsv"
      }
    },
    {
      "cell_type": "code",
      "source": [
        "num=int(input())\n",
        "for x in range(num):\n",
        "  a=int(input())\n",
        "  print('number is',a)"
      ],
      "metadata": {
        "colab": {
          "base_uri": "https://localhost:8080/"
        },
        "id": "7ktaaNMAAs4f",
        "outputId": "dd28769d-6198-4efb-dca9-7ce5bf162d24"
      },
      "execution_count": null,
      "outputs": [
        {
          "output_type": "stream",
          "name": "stdout",
          "text": [
            "2\n",
            "1\n",
            "number is 1\n",
            "2\n",
            "number is 2\n"
          ]
        }
      ]
    },
    {
      "cell_type": "markdown",
      "source": [
        "#List"
      ],
      "metadata": {
        "id": "pQIQlLj642GH"
      }
    },
    {
      "cell_type": "markdown",
      "source": [
        "##declare list"
      ],
      "metadata": {
        "id": "TjjoifLr6Aqi"
      }
    },
    {
      "cell_type": "code",
      "source": [
        "var=[]\n",
        "print(type(var))"
      ],
      "metadata": {
        "id": "QJMSMtDAA_W6",
        "colab": {
          "base_uri": "https://localhost:8080/"
        },
        "outputId": "20a599bb-79d0-4889-88e2-a707fe89b995"
      },
      "execution_count": null,
      "outputs": [
        {
          "output_type": "stream",
          "name": "stdout",
          "text": [
            "<class 'list'>\n"
          ]
        }
      ]
    },
    {
      "cell_type": "markdown",
      "source": [
        "##append"
      ],
      "metadata": {
        "id": "mSNhzc256E2G"
      }
    },
    {
      "cell_type": "code",
      "source": [
        "var.append(1)\n",
        "print(var)"
      ],
      "metadata": {
        "colab": {
          "base_uri": "https://localhost:8080/"
        },
        "id": "hJXar11R5EQd",
        "outputId": "9faa0188-43ec-41ac-b855-3a6f9456bb3f"
      },
      "execution_count": null,
      "outputs": [
        {
          "output_type": "stream",
          "name": "stdout",
          "text": [
            "[1]\n"
          ]
        }
      ]
    },
    {
      "cell_type": "code",
      "source": [
        "#create a function for append list\n",
        "def app(a):\n",
        "  var.append(a)\n",
        "  return var"
      ],
      "metadata": {
        "id": "jiS_kNUb5NMq"
      },
      "execution_count": null,
      "outputs": []
    },
    {
      "cell_type": "code",
      "source": [
        "app(10)"
      ],
      "metadata": {
        "colab": {
          "base_uri": "https://localhost:8080/"
        },
        "id": "9zW7T5Ef5ZoU",
        "outputId": "74de8c8c-5a4e-4980-caee-23f592a39694"
      },
      "execution_count": null,
      "outputs": [
        {
          "output_type": "execute_result",
          "data": {
            "text/plain": [
              "[1, 10]"
            ]
          },
          "metadata": {},
          "execution_count": 5
        }
      ]
    },
    {
      "cell_type": "code",
      "source": [
        "app(20)"
      ],
      "metadata": {
        "colab": {
          "base_uri": "https://localhost:8080/"
        },
        "id": "d22u05u95bVo",
        "outputId": "60bd3d5d-9aff-4518-9128-a5737053a249"
      },
      "execution_count": null,
      "outputs": [
        {
          "output_type": "execute_result",
          "data": {
            "text/plain": [
              "[1, 10, 20]"
            ]
          },
          "metadata": {},
          "execution_count": 6
        }
      ]
    },
    {
      "cell_type": "markdown",
      "source": [
        "##insert"
      ],
      "metadata": {
        "id": "o0XASQCE6KDl"
      }
    },
    {
      "cell_type": "code",
      "source": [
        "#create another function to insert values\n",
        "def ins(a,b):\n",
        "  var.insert(a,b) #insert(index,value)\n",
        "  return var"
      ],
      "metadata": {
        "id": "20Ev_EGa5dbQ"
      },
      "execution_count": null,
      "outputs": []
    },
    {
      "cell_type": "code",
      "source": [
        "ins(1,20)"
      ],
      "metadata": {
        "colab": {
          "base_uri": "https://localhost:8080/"
        },
        "id": "DOpU9ccX5t6h",
        "outputId": "e5fbf742-f607-4a61-b4b9-250c2df9f42d"
      },
      "execution_count": null,
      "outputs": [
        {
          "output_type": "execute_result",
          "data": {
            "text/plain": [
              "[1, 20, 20, 10, 20]"
            ]
          },
          "metadata": {},
          "execution_count": 11
        }
      ]
    },
    {
      "cell_type": "code",
      "source": [
        "ins(4,44)"
      ],
      "metadata": {
        "colab": {
          "base_uri": "https://localhost:8080/"
        },
        "id": "7Dr4lfCh5vnW",
        "outputId": "cd8ab5a7-937a-4e13-97f0-056c09db7287"
      },
      "execution_count": null,
      "outputs": [
        {
          "output_type": "execute_result",
          "data": {
            "text/plain": [
              "[1, 20, 20, 10, 44, 20]"
            ]
          },
          "metadata": {},
          "execution_count": 12
        }
      ]
    },
    {
      "cell_type": "markdown",
      "source": [
        "##Remove"
      ],
      "metadata": {
        "id": "l4gtbbbUo80v"
      }
    },
    {
      "cell_type": "code",
      "source": [
        "#remove first occurence of elements\n",
        "list=[1,2,3,4,5,5]\n",
        "list.remove(1)\n",
        "print(list)"
      ],
      "metadata": {
        "colab": {
          "base_uri": "https://localhost:8080/"
        },
        "id": "jKC60uh1o7Qn",
        "outputId": "5fc5ba49-4bad-499f-aa32-ccb4ec670fe8"
      },
      "execution_count": null,
      "outputs": [
        {
          "output_type": "stream",
          "name": "stdout",
          "text": [
            "[2, 3, 4, 5, 5]\n"
          ]
        }
      ]
    },
    {
      "cell_type": "code",
      "source": [
        "list.remove(5)\n",
        "print(list)"
      ],
      "metadata": {
        "colab": {
          "base_uri": "https://localhost:8080/"
        },
        "id": "vTJsw7SPpROT",
        "outputId": "e01245b4-1e3a-4c01-88fb-3a5377d7fdd8"
      },
      "execution_count": null,
      "outputs": [
        {
          "output_type": "stream",
          "name": "stdout",
          "text": [
            "[2, 3, 4, 5]\n"
          ]
        }
      ]
    },
    {
      "cell_type": "code",
      "source": [
        "list.append(4)\n",
        "list"
      ],
      "metadata": {
        "colab": {
          "base_uri": "https://localhost:8080/"
        },
        "id": "cTkRdh1ppYSQ",
        "outputId": "a6a67be1-369b-4ac1-f728-286d05ad2b01"
      },
      "execution_count": null,
      "outputs": [
        {
          "output_type": "execute_result",
          "data": {
            "text/plain": [
              "[2, 3, 4, 5, 5, 4]"
            ]
          },
          "metadata": {},
          "execution_count": 12
        }
      ]
    },
    {
      "cell_type": "code",
      "source": [
        "list.remove(4)\n",
        "list"
      ],
      "metadata": {
        "colab": {
          "base_uri": "https://localhost:8080/"
        },
        "id": "hBf2awHdpYEi",
        "outputId": "fdc7625c-1626-4ec2-e2be-61c05880f135"
      },
      "execution_count": null,
      "outputs": [
        {
          "output_type": "execute_result",
          "data": {
            "text/plain": [
              "[2, 3, 5, 5, 4]"
            ]
          },
          "metadata": {},
          "execution_count": 13
        }
      ]
    },
    {
      "cell_type": "markdown",
      "source": [
        "##pop"
      ],
      "metadata": {
        "id": "r_1ESG4N6XsX"
      }
    },
    {
      "cell_type": "code",
      "source": [
        "def pop(a):\n",
        "  var.pop(a) #pop(index)\n",
        "  return var"
      ],
      "metadata": {
        "id": "KVNvjuIp55D5"
      },
      "execution_count": null,
      "outputs": []
    },
    {
      "cell_type": "code",
      "source": [
        "var.pop() #by default lasst element"
      ],
      "metadata": {
        "colab": {
          "base_uri": "https://localhost:8080/"
        },
        "id": "gcyQFz0V6dZK",
        "outputId": "716d1323-5dd6-4b70-93d8-a613410ac84a"
      },
      "execution_count": null,
      "outputs": [
        {
          "output_type": "execute_result",
          "data": {
            "text/plain": [
              "20"
            ]
          },
          "metadata": {},
          "execution_count": 16
        }
      ]
    },
    {
      "cell_type": "code",
      "source": [
        "var"
      ],
      "metadata": {
        "colab": {
          "base_uri": "https://localhost:8080/"
        },
        "id": "uJZwACzl6fgX",
        "outputId": "7b94f3c7-0a47-44dc-c16b-1b6544f4a7bb"
      },
      "execution_count": null,
      "outputs": [
        {
          "output_type": "execute_result",
          "data": {
            "text/plain": [
              "[1, 20, 20, 10, 44]"
            ]
          },
          "metadata": {},
          "execution_count": 17
        }
      ]
    },
    {
      "cell_type": "code",
      "source": [
        "pop(1)"
      ],
      "metadata": {
        "colab": {
          "base_uri": "https://localhost:8080/"
        },
        "id": "yBbImCwk6m3A",
        "outputId": "985109c3-ce14-401c-a04f-dc399acd5600"
      },
      "execution_count": null,
      "outputs": [
        {
          "output_type": "execute_result",
          "data": {
            "text/plain": [
              "[1, 20, 10, 44]"
            ]
          },
          "metadata": {},
          "execution_count": 18
        }
      ]
    },
    {
      "cell_type": "markdown",
      "source": [
        "##Iterate through each command in order and perform the corresponding operation on your list."
      ],
      "metadata": {
        "id": "jXuO0yCt7HGA"
      }
    },
    {
      "cell_type": "code",
      "source": [
        "N=int(input())\n",
        "lis=[]\n",
        "for x in range(0,N):\n",
        "  command=input().split()\n",
        "\n",
        "  if command[0]=='insert' :\n",
        "    lis.insert(int(command[1]),int(command[2]))\n",
        "  elif command[0]=='print':\n",
        "    print(lis)\n",
        "  elif command[0]=='remove':\n",
        "    lis.remove(int(command[1]))\n",
        "  elif command[0]=='append':\n",
        "    lis.append(int(command[1]))\n",
        "  elif command[0]=='sort':\n",
        "    lis.sort()\n",
        "  elif command[0]=='pop':\n",
        "    lis.pop()\n",
        "  elif command[0]=='reverse':\n",
        "    lis.reverse()\n"
      ],
      "metadata": {
        "colab": {
          "base_uri": "https://localhost:8080/"
        },
        "id": "Yh6mPXMc6suT",
        "outputId": "8ade5786-a7d1-4f52-82dd-f3d7ca3fc6e3"
      },
      "execution_count": null,
      "outputs": [
        {
          "output_type": "stream",
          "name": "stdout",
          "text": [
            "4\n",
            "insert 0 6\n",
            "sort\n",
            "insert 1 5\n",
            "print\n",
            "[6, 5]\n"
          ]
        }
      ]
    },
    {
      "cell_type": "markdown",
      "source": [
        "##Store them in a list and find the score of the runner-up."
      ],
      "metadata": {
        "id": "X-MAJMH7M24c"
      }
    },
    {
      "cell_type": "code",
      "source": [
        "def find_runnerup(arr):\n",
        "    first = second = float('-inf')\n",
        "    for x in arr:\n",
        "        if x > first:\n",
        "            second = first\n",
        "            first = x\n",
        "        elif x > second and x != first:\n",
        "            second = x\n",
        "    return second\n",
        "\n",
        "if __name__ == '__main__':\n",
        "    n = int(input())\n",
        "    arr = list(map(int, input().split()))\n",
        "    print(find_runnerup(arr))\n"
      ],
      "metadata": {
        "colab": {
          "base_uri": "https://localhost:8080/"
        },
        "id": "W5_MJmShJXLQ",
        "outputId": "33e46786-707c-4156-e17a-511eac5d8737"
      },
      "execution_count": null,
      "outputs": [
        {
          "output_type": "stream",
          "name": "stdout",
          "text": [
            "6\n",
            "5 3 6 3 4 2 \n",
            "5\n"
          ]
        }
      ]
    },
    {
      "cell_type": "markdown",
      "source": [
        "##Given the names and grades for each student in a class of N students, store them in a nested list and print the name(s) of any student(s) having the second lowest grade."
      ],
      "metadata": {
        "id": "H45UN7pR2X2x"
      }
    },
    {
      "cell_type": "code",
      "source": [
        "a=[]\n",
        "b=[]\n",
        "def print_name(second):\n",
        "  for x in range(len(a)):\n",
        "    if a[x][1]==second:\n",
        "      b.append(a[x][0])\n",
        "  b.sort()\n",
        "  for x in b:\n",
        "    print(x)\n",
        "\n",
        "def second_lowest(a):\n",
        "  first = second = float('inf')\n",
        "  for x in range(len(a)):\n",
        "    if a[x][1] < first:\n",
        "      second = first\n",
        "      first = a[x][1]\n",
        "    elif a[x][1] < second and a[x][1] != first:\n",
        "      second = a[x][1]\n",
        "  return second\n",
        "\n",
        "if __name__ == '__main__':\n",
        "  for x in range(int(input())):\n",
        "      name = input('enter name:')\n",
        "      score = float(input('enter score:'))\n",
        "\n",
        "      a.append([name,score])\n",
        "\n",
        "  value=second_lowest(a)\n",
        "  print_name(value)\n",
        "\n",
        "\n"
      ],
      "metadata": {
        "colab": {
          "base_uri": "https://localhost:8080/"
        },
        "id": "T9wUNdObf-bq",
        "outputId": "8c599f42-c44d-4c5e-a821-a9f3e9f7c85b"
      },
      "execution_count": null,
      "outputs": [
        {
          "name": "stdout",
          "output_type": "stream",
          "text": [
            "4\n",
            "enter name:a\n",
            "enter score:2\n"
          ]
        }
      ]
    },
    {
      "cell_type": "markdown",
      "source": [
        "## This tool computes the cartesian product of input iterables."
      ],
      "metadata": {
        "id": "pVwdARnY_9gO"
      }
    },
    {
      "cell_type": "code",
      "source": [
        "from itertools import product\n",
        "\n",
        "def custom_product(a, b):\n",
        "    cartesian_product = list(product(a, b))\n",
        "    return cartesian_product\n",
        "\n",
        "if __name__ == '__main__':\n",
        "   a=list(map(int,input().split()))\n",
        "   b=list(map(int,input().split()))\n",
        "   result= custom_product(a,b)\n",
        "\n",
        "   for x in result:\n",
        "      print(x, end=' ')\n"
      ],
      "metadata": {
        "colab": {
          "base_uri": "https://localhost:8080/"
        },
        "id": "BuoSMV6w1kAw",
        "outputId": "a4b4a7b4-3bd3-485c-b1d2-b3dadcf9eca7"
      },
      "execution_count": null,
      "outputs": [
        {
          "output_type": "stream",
          "name": "stdout",
          "text": [
            "1 2\n",
            "3 4\n",
            "(1, 3) (1, 4) (2, 3) (2, 4) "
          ]
        }
      ]
    },
    {
      "cell_type": "code",
      "source": [
        "def custom_product(a, b):\n",
        "    cartesian_product=[(x,y) for x in a for y in b]\n",
        "    return cartesian_product\n",
        "\n",
        "if __name__ == '__main__':\n",
        "   a=list(map(int,input().split()))\n",
        "   b=list(map(int,input().split()))\n",
        "   result= custom_product(a,b)\n",
        "\n",
        "   for x in result:\n",
        "      print(x,end=' ')\n",
        "\n"
      ],
      "metadata": {
        "colab": {
          "base_uri": "https://localhost:8080/"
        },
        "id": "ohg3BLbT8mM6",
        "outputId": "73107ad2-3fb3-4afb-b0b3-2b5ddd8fa831"
      },
      "execution_count": null,
      "outputs": [
        {
          "output_type": "stream",
          "name": "stdout",
          "text": [
            "1 2\n",
            "3 4\n",
            "(1, 3) (1, 4) (2, 3) (2, 4) "
          ]
        }
      ]
    },
    {
      "cell_type": "markdown",
      "source": [
        "# Dictionary"
      ],
      "metadata": {
        "id": "Glp9H-ceecdP"
      }
    },
    {
      "cell_type": "markdown",
      "source": [
        "##The provided code stub will read in a dictionary containing key/value pairs of name:[marks] for a list of students. Print the average of the marks array for the student name provided, showing 2 places after the decimal."
      ],
      "metadata": {
        "id": "IPMk1SRgQUVI"
      }
    },
    {
      "cell_type": "code",
      "source": [
        "def avrg_marks(marks):\n",
        "  sum=0\n",
        "  for x in marks:\n",
        "    sum=sum+x\n",
        "  avg_of_marks=sum/len(marks)\n",
        "  print(f'{avg_of_marks:.2f}')\n",
        "\n",
        "if __name__ == '__main__':\n",
        "    n = int(input())\n",
        "    student_marks = {}\n",
        "    for _ in range(n):\n",
        "        name, *line = input().split()\n",
        "        scores = list(map(float, line))\n",
        "        student_marks[name] = scores\n",
        "    query_name = input()\n",
        "    marks=student_marks[query_name]\n",
        "    avrg_marks(marks)\n"
      ],
      "metadata": {
        "id": "-q6sG8DTwECN",
        "colab": {
          "base_uri": "https://localhost:8080/"
        },
        "outputId": "396df29e-fd33-45bf-b4df-4a7888f9e48c"
      },
      "execution_count": null,
      "outputs": [
        {
          "output_type": "stream",
          "name": "stdout",
          "text": [
            "2\n",
            "nitin 1 2 3 4\n",
            "ravi 1 2 3 4 5 6\n",
            "ravi\n",
            "3.50\n"
          ]
        }
      ]
    },
    {
      "cell_type": "markdown",
      "source": [],
      "metadata": {
        "id": "0MkG4E2i03So"
      }
    },
    {
      "cell_type": "code",
      "source": [
        "from collections import counter\n",
        "\n",
        "#def count(a):\n",
        "\n",
        "if __name__ == '__main__':\n",
        "  n1= int(input())\n",
        "  my_list=[]\n",
        "\n",
        "  a=list\n",
        "  print(my_list)\n"
      ],
      "metadata": {
        "colab": {
          "base_uri": "https://localhost:8080/",
          "height": 402
        },
        "id": "blQDkpeDVlkS",
        "outputId": "ae9ba2fe-0c18-42d7-9507-2e607d0eb9e0"
      },
      "execution_count": null,
      "outputs": [
        {
          "output_type": "error",
          "ename": "ImportError",
          "evalue": "cannot import name 'counter' from 'collections' (/usr/lib/python3.10/collections/__init__.py)",
          "traceback": [
            "\u001b[0;31m---------------------------------------------------------------------------\u001b[0m",
            "\u001b[0;31mImportError\u001b[0m                               Traceback (most recent call last)",
            "\u001b[0;32m<ipython-input-1-438f7da31e18>\u001b[0m in \u001b[0;36m<cell line: 1>\u001b[0;34m()\u001b[0m\n\u001b[0;32m----> 1\u001b[0;31m \u001b[0;32mfrom\u001b[0m \u001b[0mcollections\u001b[0m \u001b[0;32mimport\u001b[0m \u001b[0mcounter\u001b[0m\u001b[0;34m\u001b[0m\u001b[0;34m\u001b[0m\u001b[0m\n\u001b[0m\u001b[1;32m      2\u001b[0m \u001b[0;34m\u001b[0m\u001b[0m\n\u001b[1;32m      3\u001b[0m \u001b[0;31m#def count(a):\u001b[0m\u001b[0;34m\u001b[0m\u001b[0;34m\u001b[0m\u001b[0m\n\u001b[1;32m      4\u001b[0m \u001b[0;34m\u001b[0m\u001b[0m\n\u001b[1;32m      5\u001b[0m \u001b[0;32mif\u001b[0m \u001b[0m__name__\u001b[0m \u001b[0;34m==\u001b[0m \u001b[0;34m'__main__'\u001b[0m\u001b[0;34m:\u001b[0m\u001b[0;34m\u001b[0m\u001b[0;34m\u001b[0m\u001b[0m\n",
            "\u001b[0;31mImportError\u001b[0m: cannot import name 'counter' from 'collections' (/usr/lib/python3.10/collections/__init__.py)",
            "",
            "\u001b[0;31m---------------------------------------------------------------------------\u001b[0;32m\nNOTE: If your import is failing due to a missing package, you can\nmanually install dependencies using either !pip or !apt.\n\nTo view examples of installing some common dependencies, click the\n\"Open Examples\" button below.\n\u001b[0;31m---------------------------------------------------------------------------\u001b[0m\n"
          ],
          "errorDetails": {
            "actions": [
              {
                "action": "open_url",
                "actionText": "Open Examples",
                "url": "/notebooks/snippets/importing_libraries.ipynb"
              }
            ]
          }
        }
      ]
    },
    {
      "cell_type": "markdown",
      "source": [
        "# Set\n",
        "\n"
      ],
      "metadata": {
        "id": "nJGSwX6S7yNt"
      }
    },
    {
      "cell_type": "markdown",
      "source": [
        "## Use add fun() for find distinct values in a set"
      ],
      "metadata": {
        "id": "Eci4Wdtm_PuR"
      }
    },
    {
      "cell_type": "code",
      "source": [
        "def distinct_value(details):\n",
        "  m=set(details)\n",
        "  return len(m)\n",
        "\n",
        "\n",
        "if '__main__'==__name__:\n",
        "  n=int(input())\n",
        "  details=[]\n",
        "  for x in range(n):\n",
        "    a=input()\n",
        "    details.append(a)\n",
        "  print(distinct_value(details))\n",
        "\n",
        "\n"
      ],
      "metadata": {
        "id": "zfwzK7ICu7qZ",
        "colab": {
          "base_uri": "https://localhost:8080/"
        },
        "outputId": "944a4f46-9bbb-418a-c29a-048e72645928"
      },
      "execution_count": null,
      "outputs": [
        {
          "output_type": "stream",
          "name": "stdout",
          "text": [
            "5\n",
            "a\n",
            "b\n",
            "c\n",
            "d\n",
            "a\n",
            "4\n"
          ]
        }
      ]
    },
    {
      "cell_type": "markdown",
      "source": [
        "## compute the average of all the numbers with distinct values in the list."
      ],
      "metadata": {
        "id": "vcNVSMORGi8y"
      }
    },
    {
      "cell_type": "code",
      "source": [
        "def average(array):\n",
        "  arr_set=set(array)\n",
        "  arr_list=list(arr_set)\n",
        "\n",
        "  return sum(arr_list)/len(arr_list)\n",
        "\n",
        "\n",
        "if '__main__' == __name__ :\n",
        "  n = int(input())\n",
        "  arr = list(map(int,input().split()))\n",
        "  result = average(arr)\n",
        "  print(result)"
      ],
      "metadata": {
        "id": "WUli9TJZ-mzi",
        "colab": {
          "base_uri": "https://localhost:8080/"
        },
        "outputId": "89029bd0-41df-43f6-bcb8-13933613dd3e"
      },
      "execution_count": null,
      "outputs": [
        {
          "output_type": "stream",
          "name": "stdout",
          "text": [
            "10\n",
            "161 182 161 154 176 170 167 171 170 174\n",
            "169.375\n"
          ]
        }
      ]
    },
    {
      "cell_type": "markdown",
      "source": [
        "# Tuple"
      ],
      "metadata": {
        "id": "3qMfDo6qVr8P"
      }
    },
    {
      "cell_type": "markdown",
      "source": [
        "## Hash Value of Tuple\n"
      ],
      "metadata": {
        "id": "H-X3pIt5T0lM"
      }
    },
    {
      "cell_type": "code",
      "source": [
        "def hash_value(t):\n",
        "  return hash(t)\n",
        "\n",
        "if '__main__' == __name__:\n",
        "  n=int(input())\n",
        "  list=map(int,input().split())\n",
        "  t=tuple(list)\n",
        "  print(hash_value(t))\n"
      ],
      "metadata": {
        "id": "PpcrkqXFGF-c",
        "colab": {
          "base_uri": "https://localhost:8080/"
        },
        "outputId": "f47fc5f2-9e48-4d2f-9412-a77215ea69c1"
      },
      "execution_count": null,
      "outputs": [
        {
          "output_type": "stream",
          "name": "stdout",
          "text": [
            "2\n",
            "1 2\n",
            "-3550055125485641917\n"
          ]
        }
      ]
    },
    {
      "cell_type": "code",
      "source": [
        "N, M = list(map(int,input().split()))\n",
        "a=1\n",
        "for i in range(1,int(N/2)+1):\n",
        "  print(('.|.'*a).center(M,'-'))\n",
        "  a=a+2\n",
        "\n",
        "print('WELCOME'.center(M,'-'))\n",
        "\n",
        "for i in range(int(N/2),0,-1):\n",
        "  a=a-2\n",
        "  print(('.|.'*a).center(M,'-'))"
      ],
      "metadata": {
        "colab": {
          "base_uri": "https://localhost:8080/"
        },
        "id": "PT6MTOZRfzih",
        "outputId": "83ac22aa-89e6-414f-bfb7-c84af23a2a2c"
      },
      "execution_count": null,
      "outputs": [
        {
          "output_type": "stream",
          "name": "stdout",
          "text": [
            "11 33\n",
            "---------------.|.---------------\n",
            "------------.|..|..|.------------\n",
            "---------.|..|..|..|..|.---------\n",
            "------.|..|..|..|..|..|..|.------\n",
            "---.|..|..|..|..|..|..|..|..|.---\n",
            "-------------WELCOME-------------\n",
            "---.|..|..|..|..|..|..|..|..|.---\n",
            "------.|..|..|..|..|..|..|.------\n",
            "---------.|..|..|..|..|.---------\n",
            "------------.|..|..|.------------\n",
            "---------------.|.---------------\n"
          ]
        }
      ]
    },
    {
      "cell_type": "code",
      "source": [],
      "metadata": {
        "id": "x8Q6LaD1hkWO"
      },
      "execution_count": null,
      "outputs": []
    }
  ],
  "metadata": {
    "colab": {
      "provenance": [],
      "toc_visible": true,
      "authorship_tag": "ABX9TyOLF+ZsjFXTvXzjC176+Wc2",
      "include_colab_link": true
    },
    "kernelspec": {
      "display_name": "Python 3",
      "name": "python3"
    },
    "language_info": {
      "name": "python"
    }
  },
  "nbformat": 4,
  "nbformat_minor": 0
}